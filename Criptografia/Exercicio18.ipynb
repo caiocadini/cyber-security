{
 "cells": [
  {
   "cell_type": "markdown",
   "metadata": {},
   "source": [
    "# Trabalho de Criptografia \n"
   ]
  },
  {
   "cell_type": "markdown",
   "metadata": {},
   "source": [
    "## Introdução\n",
    "\n",
    "No trabalho da matéria de segurança cibernética da parte de criptografia, realizamos a resolução do challenge 18 do set 2 do site https://cryptopals.com/, no qual realizou-se o desenvolvimento da criptografia CTR."
   ]
  },
  {
   "cell_type": "code",
   "execution_count": 13,
   "metadata": {},
   "outputs": [],
   "source": [
    "from Crypto.Cipher import AES\n",
    "import struct\n",
    "from base64 import b64decode"
   ]
  },
  {
   "cell_type": "markdown",
   "metadata": {},
   "source": [
    "## Componentes\n",
    "\n",
    "Entretanto, embora tenhamos decidido em realizar o challenge 18, foi necessário realizar a implementação de outros componentes responsáveis para a execução, sendo eles:\n",
    "\n",
    "- Função XOR;\n",
    "- Função de padding PKCS#7;\n",
    "- Método de criptografia ECB;\n",
    "\n",
    "Somados à aplicação do Advanced Encryption Standard através da biblioteca pycryptodome."
   ]
  },
  {
   "attachments": {
    "counter block cipher.png": {
     "image/png": "[encoded data removed]"
    }
   },
   "cell_type": "markdown",
   "metadata": {},
   "source": [
    "### Função XOR\n",
    "\n",
    "A Função XOR tem seu uso em específico para o método de criptografia CTR, Sendo realizado logo após o Encrypt (neste caso a partir do método ECB) do contador junto do elemento nonce e a Key utilizada neste caso para definir o bloco de Ciphertext\n",
    "\n",
    "![counter block cipher.png](<attachment:counter block cipher.png>)\n"
   ]
  },
  {
   "cell_type": "code",
   "execution_count": 14,
   "metadata": {},
   "outputs": [],
   "source": [
    "def xor(a, b):\n",
    "    return bytes([x ^ y for x, y in zip(a, b)])"
   ]
  },
  {
   "cell_type": "markdown",
   "metadata": {},
   "source": [
    "### PKCS#7 Padding + AES ECB Encrypt\n",
    "\n",
    "Neste caso, utilizou-se o Padding do tipo PKCS#7, assim como o padrão AES para aplicar-se o modelo Electronic Codebook de Criptografia de acordo com módulos de desafios anteriores apresentados pelo site"
   ]
  },
  {
   "cell_type": "code",
   "execution_count": 15,
   "metadata": {},
   "outputs": [],
   "source": [
    "def PKCS7_pad(string, blocksize):\n",
    "    '''Função para aplicar Padding PKCS7'''    \n",
    "    if len(string) == blocksize:\n",
    "        return string\n",
    "    \n",
    "    padding = blocksize - len(string) % blocksize\n",
    "    \n",
    "    res = string + bytes([padding] * (padding))\n",
    "    \n",
    "    return res\n",
    "\n",
    "def PKCS7_unpad(string):\n",
    "    '''Função específica para realizar o Unpadding de PKCS7'''\n",
    "    padding = string[-1]\n",
    "    if padding > 16:\n",
    "        raise Exception('Invalid padding')\n",
    "    \n",
    "    for i in range(1, padding + 1):\n",
    "        if string[-i] != padding:\n",
    "            raise Exception('Invalid padding')\n",
    "    \n",
    "    return string[:-padding]"
   ]
  },
  {
   "attachments": {
    "ECB criptografia.webp": {
     "image/webp": "[encoded data removed]"
    }
   },
   "cell_type": "markdown",
   "metadata": {},
   "source": [
    "Quanto a aplicação do modelo ECB, realizamos sua implementação inicial dando foco para blocos unitários de plaintext e em futuras implementações do CTR, aplicamos ele de maneira Iterativa \n",
    "![ECB criptografia.webp](<attachment:ECB criptografia.webp>)"
   ]
  },
  {
   "cell_type": "code",
   "execution_count": 16,
   "metadata": {},
   "outputs": [],
   "source": [
    "#Aplicação da Criptografia por ECB usando AES em um único bloco\n",
    "def AES_ECB_encrypt(data, key):\n",
    "    '''Aplicação da Criptografia por ECB usando o Advanced Encryption Standard, Nesse caso se aplica a chave por bloco de plaintext'''\n",
    "    key = bytes(key, encoding='utf-8')\n",
    "    cipher = AES.new(key, AES.MODE_ECB)\n",
    "\n",
    "    #Necessário \"preencher\" os dados para se encaixar no bloco\n",
    "\n",
    "    encrypt_data = PKCS7_pad(data, AES.block_size)\n",
    "    \n",
    "    \n",
    "    return cipher.encrypt(encrypt_data)\n",
    "\n",
    "def AES_ECB_decrypt(ciphertext, key):\n",
    "    cipher = AES.new(key, AES.MODE_ECB)\n",
    "    #Necessaŕio descriptografar para depois adicionar o preenchimento\n",
    "    descrypted_data = cipher.decrypt(ciphertext)\n",
    "    return PKCS7_unpad(descrypted_data)"
   ]
  },
  {
   "cell_type": "markdown",
   "metadata": {},
   "source": [
    "## CTR Block Cipher\n",
    "\n",
    "No caso do desafio 18, tornou-se necessário a aplicação e desenvolvimento de uma função de criptografia orientada pelo modelo CTR, sendo essencial a aplicação das funções implementadas em desafios anteriores. "
   ]
  },
  {
   "cell_type": "code",
   "execution_count": 17,
   "metadata": {},
   "outputs": [],
   "source": [
    "def AES_CTR_encrypt(plaintext, key, nonce):\n",
    "    '''Aplicação de CTR usando como base ECB'''\n",
    "    ciphertext = b''\n",
    "    counter = 0\n",
    "\n",
    "    for i in range(0, len(plaintext), len(key)):\n",
    "        #Realizando a divisão de blocos de plaintext\n",
    "        block = plaintext[i: i + len(key)]\n",
    "        nonce_e_counter = struct.pack(\"<QQ\", nonce, counter)\n",
    "\n",
    "        #Criptografia do nonce+counter e key\n",
    "        encrypted = AES_ECB_encrypt(nonce_e_counter, key)\n",
    "\n",
    "        new_cipher = xor(block, encrypted)\n",
    "\n",
    "        counter += 1\n",
    "        #Incrementar cipher\n",
    "        ciphertext += new_cipher\n",
    "\n",
    "    return ciphertext\n",
    "\n",
    "\n",
    "def main():\n",
    "    text = b64decode(\"L77na/nrFsKvynd6HzOoG7GHTLXsTVu9qvY/2syLXzhPweyyMTJULu/6/kXX0KSvoOLSFQ==\")\n",
    "    key = \"YELLOW SUBMARINE\"\n",
    "    nonce = 0\n",
    "\n",
    "    print(AES_CTR_encrypt(text, key, nonce))\n"
   ]
  },
  {
   "cell_type": "code",
   "execution_count": 18,
   "metadata": {},
   "outputs": [
    {
     "name": "stdout",
     "output_type": "stream",
     "text": [
      "b\"Yo, VIP Let's kick it Ice, Ice, baby Ice, Ice, baby \"\n"
     ]
    }
   ],
   "source": [
    "if __name__ == \"__main__\":\n",
    "    main()"
   ]
  }
 ],
 "metadata": {
  "kernelspec": {
   "display_name": "Python 3",
   "language": "python",
   "name": "python3"
  },
  "language_info": {
   "codemirror_mode": {
    "name": "ipython",
    "version": 3
   },
   "file_extension": ".py",
   "mimetype": "text/x-python",
   "name": "python",
   "nbconvert_exporter": "python",
   "pygments_lexer": "ipython3",
   "version": "3.8.10"
  }
 },
 "nbformat": 4,
 "nbformat_minor": 2
}
